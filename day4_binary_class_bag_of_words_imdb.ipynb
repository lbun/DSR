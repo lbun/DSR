{
 "cells": [
  {
   "cell_type": "markdown",
   "metadata": {},
   "source": [
    "# Neural network\n",
    "Supervised learning with labelled data\n",
    "We have an input vector or tensor. We have layers with weights and biases + activation functions. \n",
    "It is important that the activation functions have to be not linear. We have also the outputs there are the result of the application funtion applied to the result of multiplication between weights and the input vector x. <br>\n",
    "The model give us the prediction vector that compared to the real values, give us loss and we use the optimizer to optimize the weights to decrease the loss.\n",
    "The accuracy is the metric that we are using to evaluate the model also during the training.\n",
    "With the mnist we made classification in ten different classes (loss function = categorical cross entropy)"
   ]
  },
  {
   "cell_type": "markdown",
   "metadata": {},
   "source": [
    "# Flow\n",
    "We are in a NLP domain (Natural Language Processing)\n",
    "\n",
    "In this model we will work for binary classification. We have to classify the films' feedbacks based on the sentiment analysis. So we have labels (0 if negative and 1 if positive) as binary output\n",
    "\n",
    "imdb is an array with 25k elements, each one of different length. These arrays are composed by numbers and the maximum lehgth is 2494. \n",
    "\n",
    "To match the numbers with the words, we need to download a dictionary. To use the dictionary (word_index - ~30k elements) we need to reverse its order so we have the numbers as key and the words as values. In this case we can \"translate\" the array into text.\n",
    "\n",
    "But for the model we'll not use the dictionary, because we now that the maximun index in our array is 10k, so we'll use bag of words, where basically we create a new matrix of all zeros with as many rows as the data and 10k columns. Using the fancy index, we'll put 1 when there is correspondence between the index and the word. And this will be the input of our neural network.\n",
    "\n",
    "General:\n",
    "It is important that in the classification problem the training test is balanced. "
   ]
  },
  {
   "cell_type": "code",
   "execution_count": null,
   "metadata": {},
   "outputs": [],
   "source": [
    "#Let's start importing the dataset"
   ]
  },
  {
   "cell_type": "code",
   "execution_count": 36,
   "metadata": {},
   "outputs": [],
   "source": [
    "from keras.datasets import imdb\n",
    "import numpy as np\n",
    "\n",
    "(train_data,train_labels),(test_data,test_labels) = imdb.load_data(num_words=10000)\n",
    "#in this way we are using the most 10000 words used and cutting out the others"
   ]
  },
  {
   "cell_type": "code",
   "execution_count": 37,
   "metadata": {},
   "outputs": [
    {
     "data": {
      "text/html": [
       "<div>\n",
       "<style scoped>\n",
       "    .dataframe tbody tr th:only-of-type {\n",
       "        vertical-align: middle;\n",
       "    }\n",
       "\n",
       "    .dataframe tbody tr th {\n",
       "        vertical-align: top;\n",
       "    }\n",
       "\n",
       "    .dataframe thead th {\n",
       "        text-align: right;\n",
       "    }\n",
       "</style>\n",
       "<table border=\"1\" class=\"dataframe\">\n",
       "  <thead>\n",
       "    <tr style=\"text-align: right;\">\n",
       "      <th></th>\n",
       "      <th>0</th>\n",
       "    </tr>\n",
       "  </thead>\n",
       "  <tbody>\n",
       "    <tr>\n",
       "      <th>count</th>\n",
       "      <td>25000.000000</td>\n",
       "    </tr>\n",
       "    <tr>\n",
       "      <th>mean</th>\n",
       "      <td>238.713640</td>\n",
       "    </tr>\n",
       "    <tr>\n",
       "      <th>std</th>\n",
       "      <td>176.497204</td>\n",
       "    </tr>\n",
       "    <tr>\n",
       "      <th>min</th>\n",
       "      <td>11.000000</td>\n",
       "    </tr>\n",
       "    <tr>\n",
       "      <th>25%</th>\n",
       "      <td>130.000000</td>\n",
       "    </tr>\n",
       "    <tr>\n",
       "      <th>50%</th>\n",
       "      <td>178.000000</td>\n",
       "    </tr>\n",
       "    <tr>\n",
       "      <th>75%</th>\n",
       "      <td>291.000000</td>\n",
       "    </tr>\n",
       "    <tr>\n",
       "      <th>max</th>\n",
       "      <td>2494.000000</td>\n",
       "    </tr>\n",
       "  </tbody>\n",
       "</table>\n",
       "</div>"
      ],
      "text/plain": [
       "                  0\n",
       "count  25000.000000\n",
       "mean     238.713640\n",
       "std      176.497204\n",
       "min       11.000000\n",
       "25%      130.000000\n",
       "50%      178.000000\n",
       "75%      291.000000\n",
       "max     2494.000000"
      ]
     },
     "execution_count": 37,
     "metadata": {},
     "output_type": "execute_result"
    }
   ],
   "source": [
    "x=[]\n",
    "for i in train_data:\n",
    "    x.append(len(i))\n",
    "import pandas as pd\n",
    "x = pd.DataFrame(x)\n",
    "x.describe()"
   ]
  },
  {
   "cell_type": "markdown",
   "metadata": {},
   "source": [
    "### Different way to do it\n",
    "import numpy as np\n",
    "lenghts = [len(x) for x in train_data]#list comprehension\n",
    "print('min=',np.min(lenghts))\n",
    "print('mean',np.mean(lenghts))\n",
    "print('std=',np.std(lenghts))\n",
    "print('max',np.max(lenghts))"
   ]
  },
  {
   "cell_type": "markdown",
   "metadata": {},
   "source": [
    "### Cropping (cut away some part) and Padding (adding as many 0 to lists to get them 2494 long)\n",
    "### Normalizing we would loose semantic sense of the numbers\n",
    "### corpus = collections of data of text to analyze vocabulary"
   ]
  },
  {
   "cell_type": "code",
   "execution_count": 38,
   "metadata": {},
   "outputs": [],
   "source": [
    "#Let's import the dictionary to get the words corresponding to the numbers of our array\n",
    "word_index = imdb.get_word_index()"
   ]
  },
  {
   "cell_type": "code",
   "execution_count": 39,
   "metadata": {},
   "outputs": [],
   "source": [
    "#Let's reverse the dictionary\n",
    "reverse_word_index = dict([(value,key) for (key,value) in word_index.items()])"
   ]
  },
  {
   "cell_type": "code",
   "execution_count": 40,
   "metadata": {},
   "outputs": [
    {
     "name": "stdout",
     "output_type": "stream",
     "text": [
      "the as you with out themselves powerful lets loves their becomes reaching had journalist of lot from anyone to have after out atmosphere never more room and it so heart shows to years of every never going and help moments or of every chest visual movie except her was several of enough more with is now current film as you of mine potentially unfortunately of you than him that with out themselves her get for was camp of you movie sometimes movie that with scary but and to story wonderful that in seeing in character to of 70s musicians with heart had shadows they of here that with her serious to have does when from why what have critics they is you that isn't one will very to as itself with other and in of seen over landed for anyone of and br show's to whether from than out themselves history he name half some br of and odd was two most of mean for 1 any an boat she he should is thought frog but of script you not while history he heart to real at barrel but when from one bit then have two of script their with her nobody most that with wasn't to with armed acting watch an for with heartfelt film want an\n",
      "\n",
      " The label of this text is: 1\n"
     ]
    }
   ],
   "source": [
    "#To get the text from an array we can use the get function that let us index an array - LIST COMPREHENSION\n",
    "decoded_array = ' '.join([reverse_word_index.get(i,'?') for i in train_data[0]])\n",
    "print(decoded_array)\n",
    "print('\\n The label of this text is:',train_labels[0])"
   ]
  },
  {
   "cell_type": "markdown",
   "metadata": {},
   "source": [
    "## Bag of Words\n",
    "We will use for start the bag of words where we take the unique words in the text loosing also the order of the words and the counting\n",
    "\n",
    "The number of indexes in the array is maximun 10k. So we create a matrix with same rows as our data and 10k columns.\n",
    "We use fancy indexing to put 1 when the word is in the array or 0 if not.\n",
    "\n",
    "### We are using fancy indexing\n",
    "We pass arrays of indices in place of single scalars. This allows us to very quickly access and modify complicated subsets of an array's values"
   ]
  },
  {
   "cell_type": "code",
   "execution_count": 56,
   "metadata": {},
   "outputs": [
    {
     "name": "stdout",
     "output_type": "stream",
     "text": [
      "the maximum number in the array is: 9995 --> for this reason the dimension has to be 10k\n",
      "[0. 1. 1. ... 0. 0. 0.]\n",
      "(10000,)\n",
      "(25000, 10000)\n"
     ]
    }
   ],
   "source": [
    "#Transforming the training data in numpy array\n",
    "\n",
    "def vectorize_sequences(sequences,dimension=10000):  #take sequenses and turn them into vectors\n",
    "    results = np.zeros((len(sequences),dimension))\n",
    "    for i, sequence in enumerate(sequences):\n",
    "        results[i,sequence] = 1.0   #fancy indexing\n",
    "    return results\n",
    "\n",
    "x_train = vectorize_sequences(train_data)\n",
    "x_test = vectorize_sequences(test_data)\n",
    "print('the maximum number in the array is:',max(np.max(train_data)),'--> for this reason the dimension has to be 10k')\n",
    "print(x_train[0])\n",
    "print(x_train[0].shape)\n",
    "print(x_train.shape)"
   ]
  },
  {
   "cell_type": "code",
   "execution_count": 60,
   "metadata": {},
   "outputs": [
    {
     "name": "stdout",
     "output_type": "stream",
     "text": [
      "transforming labels from <class 'numpy.ndarray'> to <class 'numpy.ndarray'>\n"
     ]
    }
   ],
   "source": [
    "#Transforming the labels\n",
    "print('transforming labels from',type(train_labels),'to',type(y_train))\n",
    "y_train = np.asarray(train_labels).astype('float32')\n",
    "y_test = np.asarray(test_labels).astype('float32')"
   ]
  },
  {
   "cell_type": "markdown",
   "metadata": {},
   "source": [
    "# Defining the Neural Network Architecture"
   ]
  },
  {
   "cell_type": "code",
   "execution_count": 58,
   "metadata": {},
   "outputs": [
    {
     "name": "stdout",
     "output_type": "stream",
     "text": [
      "_________________________________________________________________\n",
      "Layer (type)                 Output Shape              Param #   \n",
      "=================================================================\n",
      "dense_1 (Dense)              (None, 16)                160016    \n",
      "_________________________________________________________________\n",
      "dense_2 (Dense)              (None, 1)                 17        \n",
      "=================================================================\n",
      "Total params: 160,033\n",
      "Trainable params: 160,033\n",
      "Non-trainable params: 0\n",
      "_________________________________________________________________\n"
     ]
    }
   ],
   "source": [
    "from keras import models,layers\n",
    "\n",
    "model = models.Sequential()\n",
    "model.add(layers.Dense(16,activation='relu', input_shape=(10000,)))  #the number of columns is the number of features\n",
    "model.add(layers.Dense(1, activation='sigmoid'))  #because we are doing binary classification and we have to\n",
    "#predict\n",
    "\n",
    "model.summary()  #neural network architecture\n",
    "\n",
    "\"\"\"\n",
    "from keras import optimizers, losses, metrics\n",
    "model.compile(optimizer=optimizers.RMSprop(lr=0.001),\n",
    "loss=losses.binary_crossentropy,\n",
    "metrics=[metrics.binary_accuracy]) #square parenthesis because it's not a class\n",
    "\"\"\"\n",
    "\n",
    "model.compile(optimizer='adam',loss='binary_crossentropy',metrics=['accuracy'])\n",
    "#rmsprop because it's always a good start\n",
    "\n",
    "#160033 is number of weights plus biases"
   ]
  },
  {
   "cell_type": "markdown",
   "metadata": {},
   "source": [
    "### Validation\n",
    "If loss is low, the model is good for optimizing the problem\n",
    "If the loss is low in test set, the model is good in generalizing\n",
    "Information leak\n",
    "Validation data when we split data in 70 train,10 validation, test =20\n",
    "so we validate the model on validation before the test set so we can more fine tuning\n",
    "The first important thing to evaluate in a model is a validation loss, instead of the training loss (also accuracy, always related to the validation)"
   ]
  },
  {
   "cell_type": "code",
   "execution_count": 61,
   "metadata": {},
   "outputs": [],
   "source": [
    "#sometimes it's good to shuffle but being sure that labels and data are \n",
    "#connected to each other and there is a method for shuffle\n",
    "x_val = x_train[:10000]\n",
    "partial_x_train = x_train[10000:]  #the rest of 25000\n",
    "y_val = y_train[:10000]\n",
    "partial_y_train=y_train[10000:]\n",
    "#In our case 25k as train (15k trian), 10k as validation and 25k for test"
   ]
  },
  {
   "cell_type": "code",
   "execution_count": 62,
   "metadata": {},
   "outputs": [
    {
     "name": "stdout",
     "output_type": "stream",
     "text": [
      "Train on 15000 samples, validate on 10000 samples\n",
      "Epoch 1/4\n",
      "15000/15000 [==============================] - 6s 370us/step - loss: 0.4484 - acc: 0.8162 - val_loss: 0.3157 - val_acc: 0.8840\n",
      "Epoch 2/4\n",
      "15000/15000 [==============================] - 3s 204us/step - loss: 0.2365 - acc: 0.9207 - val_loss: 0.2796 - val_acc: 0.8917\n",
      "Epoch 3/4\n",
      "15000/15000 [==============================] - 2s 164us/step - loss: 0.1747 - acc: 0.9456 - val_loss: 0.2772 - val_acc: 0.8885\n",
      "Epoch 4/4\n",
      "15000/15000 [==============================] - 2s 162us/step - loss: 0.1395 - acc: 0.9594 - val_loss: 0.2880 - val_acc: 0.8865\n"
     ]
    }
   ],
   "source": [
    "history = model.fit(partial_x_train,partial_y_train,epochs=4,batch_size=256, \n",
    "          validation_data=(x_val,y_val))"
   ]
  },
  {
   "cell_type": "code",
   "execution_count": 63,
   "metadata": {},
   "outputs": [
    {
     "data": {
      "image/png": "[encoded data removed]",
      "text/plain": [
       "<Figure size 432x288 with 1 Axes>"
      ]
     },
     "metadata": {},
     "output_type": "display_data"
    },
    {
     "data": {
      "image/png": "[encoded data removed]",
      "text/plain": [
       "<Figure size 432x288 with 1 Axes>"
      ]
     },
     "metadata": {},
     "output_type": "display_data"
    }
   ],
   "source": [
    "import matplotlib.pyplot as plt\n",
    "%matplotlib inline\n",
    "\n",
    "plt.plot(history.history['loss'],label='loss')\n",
    "plt.plot(history.history['val_loss'],label='val_loss')  #two graph in same scale \n",
    "plt.legend()\n",
    "plt.show()\n",
    "plt.close()\n",
    "\n",
    "plt.plot(history.history['acc'])\n",
    "plt.plot(history.history['val_acc'],label='val_acc')\n",
    "plt.legend()\n",
    "plt.show()\n",
    "plt.close()"
   ]
  },
  {
   "cell_type": "markdown",
   "metadata": {},
   "source": []
  }
 ],
 "metadata": {
  "kernelspec": {
   "display_name": "Python 3",
   "language": "python",
   "name": "python3"
  },
  "language_info": {
   "codemirror_mode": {
    "name": "ipython",
    "version": 3
   },
   "file_extension": ".py",
   "mimetype": "text/x-python",
   "name": "python",
   "nbconvert_exporter": "python",
   "pygments_lexer": "ipython3",
   "version": "3.6.5"
  }
 },
 "nbformat": 4,
 "nbformat_minor": 2
}
