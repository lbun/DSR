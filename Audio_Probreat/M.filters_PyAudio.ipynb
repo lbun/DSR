{
 "cells": [
  {
   "cell_type": "code",
   "execution_count": 15,
   "metadata": {},
   "outputs": [],
   "source": [
    "import sys\n",
    "sys.path.append(\"/Users/marchan/Documents/GitHub/PORTFOLIO_PROJECT/LIBRARIES/ThinkDSP/code\")\n",
    "sys.path.append(\"/Users/marchan/Documents/GitHub/PORTFOLIO_PROJECT/LIBRARIES/\")\n",
    "sys.path.append(\"Users/luigibungaro/dsr/Audio_Probreat/\")"
   ]
  },
  {
   "cell_type": "code",
   "execution_count": 8,
   "metadata": {},
   "outputs": [],
   "source": [
    "from pyAudioAnalysis import audioFeatureExtraction as aFE, audioBasicIO,\\\n",
    "audioAnalysis,audioSegmentation,audioVisualization,audioTrainTest\n",
    "import pandas as pd\n",
    "import matplotlib.pyplot as plt\n",
    "%matplotlib inline\n",
    "import librosa\n",
    "import numpy as np\n",
    "import keras\n",
    "from keras import models,layers\n",
    "import os\n",
    "from keras.utils import to_categorical\n",
    "from sklearn.preprocessing import StandardScaler,MinMaxScaler\n",
    "from sklearn.model_selection import train_test_split\n",
    "from keras.models import Sequential\n",
    "from keras.layers import LSTM, Dense, Flatten, Dropout, GRU\n",
    "from sklearn.metrics import confusion_matrix\n",
    "from sklearn.tree import DecisionTreeClassifier\n",
    "from sklearn.naive_bayes import GaussianNB\n",
    "from sklearn.ensemble import RandomForestClassifier, GradientBoostingClassifier\n",
    "from sklearn.ensemble import ExtraTreesClassifier\n",
    "from IPython.display import HTML"
   ]
  },
  {
   "cell_type": "code",
   "execution_count": 16,
   "metadata": {},
   "outputs": [],
   "source": []
  },
  {
   "cell_type": "code",
   "execution_count": null,
   "metadata": {},
   "outputs": [],
   "source": []
  },
  {
   "cell_type": "markdown",
   "metadata": {},
   "source": [
    "HTML('''<script>\n",
    "code_show=true; \n",
    "function code_toggle() {\n",
    " if (code_show){\n",
    " $('div.input').hide();\n",
    " } else {\n",
    " $('div.input').show();\n",
    " }\n",
    " code_show = !code_show\n",
    "} \n",
    "$( document ).ready(code_toggle);\n",
    "</script>\n",
    "The raw code for this IPython notebook is by default hidden for easier reading.\n",
    "To toggle on/off the raw code, click <a href=\"javascript:code_toggle()\">here</a>.''')"
   ]
  },
  {
   "cell_type": "code",
   "execution_count": 10,
   "metadata": {},
   "outputs": [],
   "source": [
    "def amplitude_data_all():\n",
    "    target=[]\n",
    "    i=0\n",
    "    data=[]\n",
    "\n",
    "    for item in os.listdir('peterbertley_Audio/Atraining_murmur'):  #Atraining_normal   #Atraining_extrahls\n",
    "         if item.endswith(\".wav\"):\n",
    "                Fs, X = audioBasicIO.readAudioFile('peterbertley_Audio/Atraining_murmur/'+str(item))\n",
    "                data.append(X)\n",
    "                target.append(['0','murmur'])\n",
    "\n",
    "    for item in os.listdir('peterbertley_Audio/Atraining_normal'):    #Atraining_extrahls\n",
    "         if item.endswith(\".wav\"):\n",
    "                Fs, X = audioBasicIO.readAudioFile('peterbertley_Audio/Atraining_normal/'+str(item))\n",
    "                data.append(X)\n",
    "                target.append(['1','normal'])\n",
    "\n",
    "    for item in os.listdir('peterbertley_Audio/Atraining_extrahls'):   \n",
    "         if item.endswith(\".wav\"):\n",
    "                Fs, X = audioBasicIO.readAudioFile('peterbertley_Audio/Atraining_extrahls/'+str(item))\n",
    "                data.append(X)\n",
    "                target.append(['2','extrahls'])\n",
    "          \n",
    "    #Preprocessing\n",
    "    threshold = 5*Fs   #5 seconds threshols\n",
    "    sampling_indexes = np.arange(0,threshold,10)\n",
    "    drop=[]\n",
    "    for k,i in enumerate(data):\n",
    "        if len(i)<threshold:\n",
    "            drop.append(k)\n",
    "    drop = drop[::-1]  #reversing the order for the dropping\n",
    "    print('shape before dropping:',len(data),len(target))\n",
    "    for i in drop:\n",
    "        data.pop(i)\n",
    "        target.pop(i)\n",
    "    print('shape after dropping:',len(data),len(target))\n",
    "\n",
    "    # Making all the arrays of the same lengths, and sampling every 50 Hertz\n",
    "\n",
    "    for k,i in enumerate(data):\n",
    "        data[k]=i[:threshold]\n",
    "    data = np.array(data)\n",
    "\n",
    "    # StandardScaler\n",
    "    scaler = StandardScaler()\n",
    "    data = scaler.fit_transform(data)\n",
    "\n",
    "    print('final shape of your data is: ',data.shape)\n",
    "\n",
    "    #Setting the target with categorical transformation\n",
    "\n",
    "    target = np.array(target)\n",
    "    target = target[:,0]\n",
    "\n",
    "    target = to_categorical(target)\n",
    "    print('final categorical target shape is:',target.shape)\n",
    "\n",
    "    # Splitting data in training and test set\n",
    "\n",
    "    X_train,X_test,y_train,y_test = train_test_split(data,target,test_size=0.4)\n",
    "    return X_train,X_test,y_train,y_test"
   ]
  },
  {
   "cell_type": "code",
   "execution_count": 11,
   "metadata": {},
   "outputs": [],
   "source": [
    "def amplitude_data_sample_mean(step_of_sampling):\n",
    "    target=[]\n",
    "    i=0\n",
    "    data=[]\n",
    "\n",
    "    for item in os.listdir('peterbertley_Audio/Atraining_murmur'):  #Atraining_normal   #Atraining_extrahls\n",
    "         if item.endswith(\".wav\"):\n",
    "                Fs, X = audioBasicIO.readAudioFile('peterbertley_Audio/Atraining_murmur/'+str(item))\n",
    "                data.append(X)\n",
    "                target.append(['0','murmur'])\n",
    "\n",
    "    for item in os.listdir('peterbertley_Audio/Atraining_normal'):    #Atraining_extrahls\n",
    "         if item.endswith(\".wav\"):\n",
    "                Fs, X = audioBasicIO.readAudioFile('peterbertley_Audio/Atraining_normal/'+str(item))\n",
    "                data.append(X)\n",
    "                target.append(['1','normal'])\n",
    "\n",
    "    for item in os.listdir('peterbertley_Audio/Atraining_extrahls'):   \n",
    "         if item.endswith(\".wav\"):\n",
    "                Fs, X = audioBasicIO.readAudioFile('peterbertley_Audio/Atraining_extrahls/'+str(item))\n",
    "                data.append(X)\n",
    "                target.append(['2','extrahls'])\n",
    "    #Preprocessing\n",
    "    threshold = 5*Fs   #5 seconds threshols\n",
    "    drop=[]\n",
    "    for k,i in enumerate(data):\n",
    "        if len(i)<threshold:\n",
    "            drop.append(k)\n",
    "    drop = drop[::-1]  #reversing the order for the dropping\n",
    "    print('shape before dropping:',len(data),len(target))\n",
    "    for i in drop:\n",
    "        data.pop(i)\n",
    "        target.pop(i)\n",
    "    print('shape after dropping:',len(data),len(target))\n",
    "\n",
    "    # Making all the arrays of the same lengths, and sampling every 50 Hertz\n",
    "\n",
    "    for k,i in enumerate(data):\n",
    "        data[k]=i[:threshold]\n",
    "    data = pd.DataFrame(data)\n",
    "    data.rolling(window = step_of_sampling, axis = 1).mean().iloc[:,range(step_of_sampling-1,len(data[0]),step_of_sampling)]\n",
    "    #data.groupby(lambda x: x // 10, axis = 1).mean()\n",
    "    data = np.array(data)\n",
    "    data = data[:,0::step_of_sampling]\n",
    "    # StandardScaler\n",
    "    scaler = StandardScaler()\n",
    "    data = scaler.fit_transform(data)\n",
    "\n",
    "    print('final shape of your data is: ',data.shape)\n",
    "\n",
    "    #Setting the target with categorical transformation\n",
    "\n",
    "    target = np.array(target)\n",
    "    target = target[:,0]\n",
    "\n",
    "    target = to_categorical(target)\n",
    "    print('final categorical target shape is:',target.shape)\n",
    "\n",
    "    # Splitting data in training and test set\n",
    "\n",
    "    X_train,X_test,y_train,y_test = train_test_split(data,target,test_size=0.4)\n",
    "    return X_train,X_test,y_train,y_test"
   ]
  },
  {
   "cell_type": "code",
   "execution_count": 12,
   "metadata": {},
   "outputs": [],
   "source": [
    "def amplitude_data_sample_asis(step_of_sampling):\n",
    "    target=[]\n",
    "    i=0\n",
    "    data=[]\n",
    "\n",
    "    for item in os.listdir('peterbertley_Audio/Atraining_murmur'):  #Atraining_normal   #Atraining_extrahls\n",
    "         if item.endswith(\".wav\"):\n",
    "                Fs, X = audioBasicIO.readAudioFile('peterbertley_Audio/Atraining_murmur/'+str(item))\n",
    "                data.append(X)\n",
    "                target.append(['0','murmur'])\n",
    "\n",
    "    for item in os.listdir('peterbertley_Audio/Atraining_normal'):    #Atraining_extrahls\n",
    "         if item.endswith(\".wav\"):\n",
    "                Fs, X = audioBasicIO.readAudioFile('peterbertley_Audio/Atraining_normal/'+str(item))\n",
    "                data.append(X)\n",
    "                target.append(['1','normal'])\n",
    "\n",
    "    for item in os.listdir('peterbertley_Audio/Atraining_extrahls'):   \n",
    "         if item.endswith(\".wav\"):\n",
    "                Fs, X = audioBasicIO.readAudioFile('peterbertley_Audio/Atraining_extrahls/'+str(item))\n",
    "                data.append(X)\n",
    "                target.append(['2','extrahls'])\n",
    "    #Preprocessing\n",
    "    threshold = 5*Fs   #5 seconds threshols\n",
    "    #sampling_indexes = np.arange(0,threshold,step_of_sampling)\n",
    "    drop=[]\n",
    "    for k,i in enumerate(data):\n",
    "        if len(i)<threshold:\n",
    "            drop.append(k)\n",
    "    drop = drop[::-1]  #reversing the order for the dropping\n",
    "    print('shape before dropping:',len(data),len(target))\n",
    "    for i in drop:\n",
    "        data.pop(i)\n",
    "        target.pop(i)\n",
    "    print('shape after dropping:',len(data),len(target))\n",
    "\n",
    "    # Making all the arrays of the same lengths, and sampling every 50 Hertz\n",
    "\n",
    "    for k,i in enumerate(data):\n",
    "        data[k]=i[:threshold]\n",
    "        \n",
    "    data = np.array(data)\n",
    "    data = data[:,0::step_of_sampling]\n",
    "\n",
    "    # StandardScaler\n",
    "    scaler = StandardScaler()\n",
    "    data = scaler.fit_transform(data)\n",
    "\n",
    "    print('final shape of your data is: ',data.shape)\n",
    "\n",
    "    #Setting the target with categorical transformation\n",
    "\n",
    "    target = np.array(target)\n",
    "    target = target[:,0]\n",
    "\n",
    "    target = to_categorical(target)\n",
    "    print('final categorical target shape is:',target.shape)\n",
    "\n",
    "    # Splitting data in training and test set\n",
    "\n",
    "    X_train,X_test,y_train,y_test = train_test_split(data,target,test_size=0.4)\n",
    "    return X_train,X_test,y_train,y_test"
   ]
  },
  {
   "cell_type": "code",
   "execution_count": 13,
   "metadata": {},
   "outputs": [],
   "source": [
    "def amplitude_data_difference():\n",
    "    target=[]\n",
    "    i=0\n",
    "    data=[]\n",
    "\n",
    "    for item in os.listdir('peterbertley_Audio/Atraining_murmur'):  #Atraining_normal   #Atraining_extrahls\n",
    "         if item.endswith(\".wav\"):\n",
    "                Fs, X = audioBasicIO.readAudioFile('peterbertley_Audio/Atraining_murmur/'+str(item))\n",
    "                X_temp = X[1:]\n",
    "                data.append(X_temp-X[:-1])\n",
    "                target.append(['0','murmur'])\n",
    "\n",
    "    for item in os.listdir('peterbertley_Audio/Atraining_normal'):    #Atraining_extrahls\n",
    "         if item.endswith(\".wav\"):\n",
    "                Fs, X = audioBasicIO.readAudioFile('peterbertley_Audio/Atraining_normal/'+str(item))\n",
    "                #X_temp = X[1:]\n",
    "                #data.append(X_temp-X[:-1])\n",
    "                data.append(data)\n",
    "                target.append(['1','normal'])\n",
    "\n",
    "    for item in os.listdir('peterbertley_Audio/Atraining_extrahls'):   \n",
    "         if item.endswith(\".wav\"):\n",
    "                Fs, X = audioBasicIO.readAudioFile('peterbertley_Audio/Atraining_extrahls/'+str(item))\n",
    "                X_temp = X[1:]\n",
    "                data.append(X_temp-X[:-1])\n",
    "                target.append(['2','extrahls'])\n",
    "    #Preprocessing\n",
    "    threshold = 5*Fs   #5 seconds threshols\n",
    "    sampling_indexes = np.arange(0,threshold,10)\n",
    "    drop=[]\n",
    "    for k,i in enumerate(data):\n",
    "        if len(i)<threshold:\n",
    "            drop.append(k)\n",
    "    drop = drop[::-1]  #reversing the order for the dropping\n",
    "    print('shape before dropping:',len(data),len(target))\n",
    "    for i in drop:\n",
    "        data.pop(i)\n",
    "        target.pop(i)\n",
    "    print('shape after dropping:',len(data),len(target))\n",
    "\n",
    "    # Making all the arrays of the same lengths, and sampling every 50 Hertz\n",
    "\n",
    "    for k,i in enumerate(data):\n",
    "        data[k]=i[:threshold]\n",
    "        #data[k]=i[sampling_indexes]\n",
    "    data = np.array(data)\n",
    "\n",
    "    # StandardScaler\n",
    "    scaler = StandardScaler()\n",
    "    data = scaler.fit_transform(data)\n",
    "\n",
    "    print('final shape of your data is: ',data.shape)\n",
    "\n",
    "    #Setting the target with categorical transformation\n",
    "\n",
    "    target = np.array(target)\n",
    "    target = target[:,0]\n",
    "\n",
    "    target = to_categorical(target)\n",
    "    print('final categorical target shape is:',target.shape)\n",
    "\n",
    "    # Splitting data in training and test set\n",
    "\n",
    "    X_train,X_test,y_train,y_test = train_test_split(data,target,test_size=0.4)\n",
    "    return X_train,X_test,y_train,y_test"
   ]
  },
  {
   "cell_type": "code",
   "execution_count": 14,
   "metadata": {},
   "outputs": [
    {
     "ename": "FileNotFoundError",
     "evalue": "[Errno 2] No such file or directory: 'peterbertley_Audio/Atraining_murmur'",
     "output_type": "error",
     "traceback": [
      "\u001b[0;31m---------------------------------------------------------------------------\u001b[0m",
      "\u001b[0;31mFileNotFoundError\u001b[0m                         Traceback (most recent call last)",
      "\u001b[0;32m<ipython-input-14-2f258f3d093b>\u001b[0m in \u001b[0;36m<module>\u001b[0;34m()\u001b[0m\n\u001b[0;32m----> 1\u001b[0;31m \u001b[0mX_train\u001b[0m\u001b[0;34m,\u001b[0m\u001b[0mX_test\u001b[0m\u001b[0;34m,\u001b[0m\u001b[0my_train\u001b[0m\u001b[0;34m,\u001b[0m\u001b[0my_test\u001b[0m \u001b[0;34m=\u001b[0m \u001b[0mamplitude_data_all\u001b[0m\u001b[0;34m(\u001b[0m\u001b[0;34m)\u001b[0m\u001b[0;34m\u001b[0m\u001b[0m\n\u001b[0m",
      "\u001b[0;32m<ipython-input-10-b8ec846777f8>\u001b[0m in \u001b[0;36mamplitude_data_all\u001b[0;34m()\u001b[0m\n\u001b[1;32m      4\u001b[0m     \u001b[0mdata\u001b[0m\u001b[0;34m=\u001b[0m\u001b[0;34m[\u001b[0m\u001b[0;34m]\u001b[0m\u001b[0;34m\u001b[0m\u001b[0m\n\u001b[1;32m      5\u001b[0m \u001b[0;34m\u001b[0m\u001b[0m\n\u001b[0;32m----> 6\u001b[0;31m     \u001b[0;32mfor\u001b[0m \u001b[0mitem\u001b[0m \u001b[0;32min\u001b[0m \u001b[0mos\u001b[0m\u001b[0;34m.\u001b[0m\u001b[0mlistdir\u001b[0m\u001b[0;34m(\u001b[0m\u001b[0;34m'peterbertley_Audio/Atraining_murmur'\u001b[0m\u001b[0;34m)\u001b[0m\u001b[0;34m:\u001b[0m  \u001b[0;31m#Atraining_normal   #Atraining_extrahls\u001b[0m\u001b[0;34m\u001b[0m\u001b[0m\n\u001b[0m\u001b[1;32m      7\u001b[0m          \u001b[0;32mif\u001b[0m \u001b[0mitem\u001b[0m\u001b[0;34m.\u001b[0m\u001b[0mendswith\u001b[0m\u001b[0;34m(\u001b[0m\u001b[0;34m\".wav\"\u001b[0m\u001b[0;34m)\u001b[0m\u001b[0;34m:\u001b[0m\u001b[0;34m\u001b[0m\u001b[0m\n\u001b[1;32m      8\u001b[0m                 \u001b[0mFs\u001b[0m\u001b[0;34m,\u001b[0m \u001b[0mX\u001b[0m \u001b[0;34m=\u001b[0m \u001b[0maudioBasicIO\u001b[0m\u001b[0;34m.\u001b[0m\u001b[0mreadAudioFile\u001b[0m\u001b[0;34m(\u001b[0m\u001b[0;34m'peterbertley_Audio/Atraining_murmur/'\u001b[0m\u001b[0;34m+\u001b[0m\u001b[0mstr\u001b[0m\u001b[0;34m(\u001b[0m\u001b[0mitem\u001b[0m\u001b[0;34m)\u001b[0m\u001b[0;34m)\u001b[0m\u001b[0;34m\u001b[0m\u001b[0m\n",
      "\u001b[0;31mFileNotFoundError\u001b[0m: [Errno 2] No such file or directory: 'peterbertley_Audio/Atraining_murmur'"
     ]
    }
   ],
   "source": [
    "X_train,X_test,y_train,y_test = amplitude_data_all()"
   ]
  },
  {
   "cell_type": "code",
   "execution_count": 61,
   "metadata": {},
   "outputs": [
    {
     "name": "stdout",
     "output_type": "stream",
     "text": [
      "shape before dropping: 84 84\n",
      "shape after dropping: 76 76\n",
      "final shape of your data is:  (76, 4410)\n",
      "final categorical target shape is: (76, 3)\n"
     ]
    },
    {
     "name": "stderr",
     "output_type": "stream",
     "text": [
      "/Users/luigibungaro/dsr/lib/python3.6/site-packages/sklearn/utils/validation.py:444: DataConversionWarning: Data with input dtype int16 was converted to float64 by StandardScaler.\n",
      "  warnings.warn(msg, DataConversionWarning)\n"
     ]
    }
   ],
   "source": [
    "X_train,X_test,y_train,y_test = amplitude_data_sample_asis(50)"
   ]
  },
  {
   "cell_type": "code",
   "execution_count": 65,
   "metadata": {},
   "outputs": [
    {
     "name": "stdout",
     "output_type": "stream",
     "text": [
      "shape before dropping: 84 84\n",
      "shape after dropping: 76 76\n",
      "final shape of your data is:  (76, 4410)\n",
      "final categorical target shape is: (76, 3)\n"
     ]
    },
    {
     "name": "stderr",
     "output_type": "stream",
     "text": [
      "/Users/luigibungaro/dsr/lib/python3.6/site-packages/sklearn/utils/validation.py:444: DataConversionWarning: Data with input dtype int64 was converted to float64 by StandardScaler.\n",
      "  warnings.warn(msg, DataConversionWarning)\n"
     ]
    }
   ],
   "source": [
    "X_train,X_test,y_train,y_test = amplitude_data_sample_mean(50)"
   ]
  },
  {
   "cell_type": "code",
   "execution_count": 63,
   "metadata": {},
   "outputs": [
    {
     "name": "stdout",
     "output_type": "stream",
     "text": [
      "shape before dropping: 84 84\n",
      "shape after dropping: 47 47\n"
     ]
    },
    {
     "name": "stderr",
     "output_type": "stream",
     "text": [
      "/Users/luigibungaro/dsr/lib/python3.6/site-packages/sklearn/utils/validation.py:444: DataConversionWarning: Data with input dtype int16 was converted to float64 by StandardScaler.\n",
      "  warnings.warn(msg, DataConversionWarning)\n"
     ]
    },
    {
     "name": "stdout",
     "output_type": "stream",
     "text": [
      "final shape of your data is:  (47, 220500)\n",
      "final categorical target shape is: (47, 3)\n"
     ]
    }
   ],
   "source": [
    "X_train,X_test,y_train,y_test = amplitude_data_difference()"
   ]
  },
  {
   "cell_type": "code",
   "execution_count": null,
   "metadata": {},
   "outputs": [],
   "source": []
  }
 ],
 "metadata": {
  "kernelspec": {
   "display_name": "Python 3",
   "language": "python",
   "name": "python3"
  },
  "language_info": {
   "codemirror_mode": {
    "name": "ipython",
    "version": 3
   },
   "file_extension": ".py",
   "mimetype": "text/x-python",
   "name": "python",
   "nbconvert_exporter": "python",
   "pygments_lexer": "ipython3",
   "version": "3.6.5"
  }
 },
 "nbformat": 4,
 "nbformat_minor": 2
}
