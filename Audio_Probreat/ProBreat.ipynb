{
 "cells": [
  {
   "cell_type": "code",
   "execution_count": 1,
   "metadata": {},
   "outputs": [
    {
     "name": "stderr",
     "output_type": "stream",
     "text": [
      "/Users/luigibungaro/dsr/lib/python3.6/site-packages/pydub/utils.py:165: RuntimeWarning: Couldn't find ffmpeg or avconv - defaulting to ffmpeg, but may not work\n",
      "  warn(\"Couldn't find ffmpeg or avconv - defaulting to ffmpeg, but may not work\", RuntimeWarning)\n",
      "Using TensorFlow backend.\n"
     ]
    }
   ],
   "source": [
    "from pyAudioAnalysis import audioFeatureExtraction as aFE, audioBasicIO, \\\n",
    "audioAnalysis,audioSegmentation,audioVisualization,audioTrainTest\n",
    "import pandas as pd\n",
    "import matplotlib.pyplot as plt\n",
    "%matplotlib inline\n",
    "import librosa\n",
    "import numpy as np\n",
    "import keras\n",
    "from keras import models,layers\n",
    "import os\n",
    "from keras.utils import to_categorical\n",
    "from sklearn.preprocessing import StandardScaler\n",
    "from sklearn.model_selection import train_test_split"
   ]
  },
  {
   "cell_type": "markdown",
   "metadata": {},
   "source": [
    "def amplitude_in_time(wave_file,threshold_seconds,sampling_rate_Hz):\n",
    "    \n",
    "    \"\"\"this function gives you amplitude in time with a threshold settings\n",
    "    with PyAudioAnalysis data loading. \"\"\"\n",
    "    \n",
    "    Fs, X = audioBasicIO.readAudioFile(wave_file)\n",
    "    sampling_indexes = []\n",
    "    data_new=[]\n",
    "    np.arange(0,threshold_seconds*Fs,50)\n",
    "    sampling_indexes=sampling_indexes[::-1]\n",
    "    if len(X)/Fs > threshold_seconds:\n",
    "        X = X[0:threshold_seconds*Fs]\n",
    "        data_new=[]\n",
    "        for i in sampling_indexes:\n",
    "            data_new.append(X[i])\n",
    "        data_new = data_new[::-1]\n",
    "        data.append(data_new)"
   ]
  },
  {
   "cell_type": "markdown",
   "metadata": {},
   "source": [
    "paths={'peterbertley_Audio/Atraining_murmur':0,\n",
    "       'peterbertley_Audio/Atraining_normal':1,\n",
    "       'peterbertley_Audio/Atraining_extrahls':2}"
   ]
  },
  {
   "cell_type": "markdown",
   "metadata": {},
   "source": [
    "def create_amplitude_dataset(path_dict):\n",
    "    \"\"\" To create a dataset of amplitudes of the same length\"\"\"\n",
    "    for k,i in enumerate(paths.keys()):\n",
    "        for audio_file in os.listdir(i):\n",
    "            if audio_file.endswith(\".wav\"):\n",
    "                amplitude_in_time(i+'/'+str(audio_file),5,50)\n",
    "                target.append(list(paths.values())[k]) "
   ]
  },
  {
   "cell_type": "markdown",
   "metadata": {},
   "source": [
    "data=[]\n",
    "target=[]\n",
    "create_amplitude_dataset(paths)"
   ]
  },
  {
   "cell_type": "markdown",
   "metadata": {},
   "source": [
    "# Data --> Data --> with amplitude (vector for sample)"
   ]
  },
  {
   "cell_type": "code",
   "execution_count": null,
   "metadata": {},
   "outputs": [],
   "source": [
    "target=[]\n",
    "i=0\n",
    "data=[]\n",
    "\n",
    "for item in os.listdir('peterbertley_Audio/Atraining_murmur'):  #Atraining_normal   #Atraining_extrahls\n",
    "     if item.endswith(\".wav\"):\n",
    "            Fs, X = audioBasicIO.readAudioFile('peterbertley_Audio/Atraining_murmur/'+str(item))\n",
    "            data.append(X)\n",
    "            target.append(['0','murmur'])\n",
    "    \n",
    "for item in os.listdir('peterbertley_Audio/Atraining_normal'):    #Atraining_extrahls\n",
    "     if item.endswith(\".wav\"):\n",
    "            Fs, X = audioBasicIO.readAudioFile('peterbertley_Audio/Atraining_normal/'+str(item))\n",
    "            data.append(X)\n",
    "            target.append(['1','normal'])\n",
    "\n",
    "for item in os.listdir('peterbertley_Audio/Atraining_extrahls'):   \n",
    "     if item.endswith(\".wav\"):\n",
    "            Fs, X = audioBasicIO.readAudioFile('peterbertley_Audio/Atraining_extrahls/'+str(item))\n",
    "            data.append(X)\n",
    "            target.append(['2','extrahls'])"
   ]
  },
  {
   "cell_type": "markdown",
   "metadata": {},
   "source": [
    "## Preprocessing"
   ]
  },
  {
   "cell_type": "code",
   "execution_count": null,
   "metadata": {},
   "outputs": [],
   "source": [
    "threshold = 5*Fs   #5 seconds threshols\n",
    "sampling_indexes = np.arange(0,threshold,50)\n",
    "drop=[]\n",
    "for k,i in enumerate(data):\n",
    "    if len(i)<threshold:\n",
    "        drop.append(k)\n",
    "drop = drop[::-1]  #reversing the order for the dropping\n",
    "print('shape before dropping:',len(data),len(target))\n",
    "for i in drop:\n",
    "    data.pop(i)\n",
    "    target.pop(i)\n",
    "print('shape after dropping:',len(data),len(target))\n",
    "\n",
    "# Making all the arrays of the same lengths, and sampling every 50 Hertz\n",
    "\n",
    "for k,i in enumerate(data):\n",
    "    data[k]=i[:threshold]\n",
    "    data[k]=i[sampling_indexes]\n",
    "data = np.array(data)\n",
    "\n",
    "# StandardScaler\n",
    "scaler = StandardScaler()\n",
    "data = scaler.fit_transform(data)\n",
    "\n",
    "print('final shape of your data is: ',data.shape)\n",
    "\n",
    "#Setting the target with categorical transformation\n",
    "\n",
    "target = np.array(target)\n",
    "target = target[:,0]\n",
    "\n",
    "target = to_categorical(target)\n",
    "print('final categorical target shape is:',target.shape)\n",
    "\n",
    "# Splitting data in training and test set\n",
    "\n",
    "X_train,X_test,y_train,y_test = train_test_split(data,target,test_size=0.4)"
   ]
  },
  {
   "cell_type": "markdown",
   "metadata": {},
   "source": [
    "# Data --> Feature Extraction with FeatureExtraction -  STFT (matrix for sample)"
   ]
  },
  {
   "cell_type": "code",
   "execution_count": 2,
   "metadata": {},
   "outputs": [],
   "source": [
    "target=[]\n",
    "i=0\n",
    "data=[]\n",
    "\n",
    "for item in os.listdir('peterbertley_Audio/Atraining_murmur'):  #Atraining_normal   #Atraining_extrahls\n",
    "     if item.endswith(\".wav\"):\n",
    "            Fs, X = audioBasicIO.readAudioFile('peterbertley_Audio/Atraining_murmur/'+str(item))\n",
    "            F, f_names = aFE.stFeatureExtraction(X, Fs, 0.050*Fs, 0.025*Fs)\n",
    "            data.append(F)\n",
    "            target.append(['0','murmur'])\n",
    "    \n",
    "for item in os.listdir('peterbertley_Audio/Atraining_normal'):    #Atraining_extrahls\n",
    "     if item.endswith(\".wav\"):\n",
    "            Fs, X = audioBasicIO.readAudioFile('peterbertley_Audio/Atraining_normal/'+str(item))\n",
    "            F, f_names = aFE.stFeatureExtraction(X, Fs, 0.050*Fs, 0.025*Fs)\n",
    "            data.append(F)\n",
    "            target.append(['1','normal'])\n",
    "\n",
    "for item in os.listdir('peterbertley_Audio/Atraining_extrahls'):   \n",
    "     if item.endswith(\".wav\"):\n",
    "            Fs, X = audioBasicIO.readAudioFile('peterbertley_Audio/Atraining_extrahls/'+str(item))\n",
    "            F, f_names = aFE.stFeatureExtraction(X, Fs, 0.050*Fs, 0.025*Fs)\n",
    "            data.append(F)\n",
    "            target.append(['2','extrahls'])"
   ]
  },
  {
   "cell_type": "markdown",
   "metadata": {},
   "source": [
    "# Data Preprocessing"
   ]
  },
  {
   "cell_type": "code",
   "execution_count": 15,
   "metadata": {},
   "outputs": [
    {
     "name": "stdout",
     "output_type": "stream",
     "text": [
      "samples are  84\n",
      "The threshold is 269 and represent the number of measurement for the every single feature of the 32 features for each sample\n"
     ]
    }
   ],
   "source": [
    "#Defining the threshold\n",
    "print('samples are ',len(data))\n",
    "list_lengths =[]\n",
    "for i in data:\n",
    "    list_lengths.append(i.shape[1])\n",
    "threshold  =int(np.max(list_lengths)*.75)\n",
    "print('The threshold is',threshold,'and represent the number of measurement for the every single feature', \n",
    "   'of the 32 features for each sample')"
   ]
  },
  {
   "cell_type": "code",
   "execution_count": 67,
   "metadata": {},
   "outputs": [
    {
     "name": "stdout",
     "output_type": "stream",
     "text": [
      "shape before dropping: 70 70\n",
      "shape after dropping: 70 70\n",
      "final data shape is (70, 34, 269)\n",
      "final categorical target shape is: (70, 3)\n"
     ]
    }
   ],
   "source": [
    "drop=[]\n",
    "for k,i in enumerate(data):\n",
    "    if i.shape[1] < threshold:\n",
    "            drop.append(k)\n",
    "drop = drop[::-1]  #reversing the order for the dropping\n",
    "print('shape before dropping:',len(data),len(target))\n",
    "\n",
    "for i in drop:\n",
    "    data.pop(i)\n",
    "    target.pop(i)\n",
    "print('shape after dropping:',len(data),len(target))\n",
    "\n",
    "# Making all the arrays of the same lengths, and sampling every 50 Hertz\n",
    "for k,i in enumerate(data):\n",
    "    data[k]=i[:,:threshold]\n",
    "data = np.array(data)\n",
    "print('final data shape is',data.shape)\n",
    "\n",
    "#The features are already standardized (Below example code for checking it)\n",
    "\"\"\"\n",
    "pd.DataFrame(data[0].reshape(269,34),columns=f_names)\n",
    "\"\"\"\n",
    "\n",
    "#Setting the target with categorical transformation\n",
    "\n",
    "target = np.array(target)\n",
    "target = target[:,0]\n",
    "\n",
    "target = to_categorical(target)\n",
    "print('final categorical target shape is:',target.shape)\n",
    "\n",
    "# Splitting data in training and test set\n",
    "\n",
    "X_train,X_test,y_train,y_test = train_test_split(data,target,test_size=0.4)"
   ]
  },
  {
   "cell_type": "markdown",
   "metadata": {},
   "source": [
    "# ANN - Feed Forward - Model Architecture"
   ]
  },
  {
   "cell_type": "code",
   "execution_count": null,
   "metadata": {},
   "outputs": [],
   "source": [
    "model = models.Sequential()\n",
    "model.add(layers.Dense(2000, activation='relu',input_shape=(len(indexes),)))\n",
    "model.add(layers.Dense(1000, activation='relu'))\n",
    "model.add(layers.Dense(500, activation='relu'))\n",
    "model.add(layers.Dense(200, activation='relu'))\n",
    "model.add(layers.Dense(3,activation='softmax'))\n",
    "model.summary()"
   ]
  },
  {
   "cell_type": "code",
   "execution_count": null,
   "metadata": {},
   "outputs": [],
   "source": [
    "model.compile(optimizer='rmsprop',loss='categorical_crossentropy',metrics=['accuracy'])"
   ]
  },
  {
   "cell_type": "code",
   "execution_count": null,
   "metadata": {},
   "outputs": [],
   "source": [
    "from sklearn.model_selection import train_test_split"
   ]
  },
  {
   "cell_type": "code",
   "execution_count": null,
   "metadata": {},
   "outputs": [],
   "source": [
    "X_train,X_test,y_train,y_test = train_test_split(data,target,test_size=0.4)"
   ]
  },
  {
   "cell_type": "code",
   "execution_count": null,
   "metadata": {},
   "outputs": [],
   "source": [
    "history = model.fit(\n",
    "    X_train,y_train,\n",
    "    epochs=20,\n",
    "    batch_size=256)"
   ]
  },
  {
   "cell_type": "code",
   "execution_count": null,
   "metadata": {},
   "outputs": [],
   "source": [
    "model.evaluate(X_test,y_test)"
   ]
  },
  {
   "cell_type": "markdown",
   "metadata": {},
   "source": [
    "# Stacked LSTM for sequence classification"
   ]
  },
  {
   "cell_type": "code",
   "execution_count": null,
   "metadata": {},
   "outputs": [],
   "source": []
  },
  {
   "cell_type": "code",
   "execution_count": null,
   "metadata": {},
   "outputs": [],
   "source": [
    "print(X_train.shape,y_train.shape)\n",
    "X_train = X_train.reshape(X_train.shape[0],1,X_train.shape[1])"
   ]
  },
  {
   "cell_type": "code",
   "execution_count": null,
   "metadata": {},
   "outputs": [],
   "source": [
    "from keras.models import Sequential\n",
    "from keras.layers import LSTM, Dense, Flatten, Dropout\n",
    "import numpy as np\n",
    "\n",
    "# expected input data shape: (batch_size, timesteps, data_dim)\n",
    "model = Sequential()\n",
    "\n",
    "model.add(LSTM(1000,input_shape=(1,4410,),return_sequences=True))\n",
    "model.add(LSTM(500,activation='relu'))  \n",
    "#model.add(Flatten())\n",
    "model.add(Dense(3, activation='softmax'))\n",
    "\n",
    "\n",
    "model.compile(loss='categorical_crossentropy',\n",
    "              optimizer='rmsprop',\n",
    "              metrics=['accuracy'])"
   ]
  },
  {
   "cell_type": "code",
   "execution_count": null,
   "metadata": {},
   "outputs": [],
   "source": [
    "model.fit(X_train, y_train,epochs=10)   #,batch_size=3"
   ]
  },
  {
   "cell_type": "code",
   "execution_count": null,
   "metadata": {},
   "outputs": [],
   "source": [
    "print(X_test.shape)\n",
    "X_test = X_test.reshape(X_test.shape[0],1,X_test.shape[1])\n",
    "model.evaluate(X_test,y_test)"
   ]
  },
  {
   "cell_type": "markdown",
   "metadata": {},
   "source": [
    "# Neural Network with Feature extraction"
   ]
  },
  {
   "cell_type": "code",
   "execution_count": null,
   "metadata": {},
   "outputs": [],
   "source": [
    "import os\n",
    "target=[]\n",
    "i=0\n",
    "data=[]\n",
    "\n",
    "\n",
    "for item in os.listdir('peterbertley_Audio/Atraining_murmur'):  #Atraining_normal   #Atraining_extrahls\n",
    "     if item.endswith(\".wav\"):\n",
    "            Fs, X = audioBasicIO.readAudioFile('peterbertley_Audio/Atraining_murmur/'+str(item))\n",
    "            F, f_names = aFE.stFeatureExtraction(X, Fs, 0.050*Fs, 0.025*Fs)\n",
    "            data.append(F)\n",
    "            target.append(['0','murmur'])\n",
    "    \n",
    "for item in os.listdir('peterbertley_Audio/Atraining_normal'):    #Atraining_extrahls\n",
    "     if item.endswith(\".wav\"):\n",
    "            Fs, X = audioBasicIO.readAudioFile('peterbertley_Audio/Atraining_normal/'+str(item))\n",
    "            F, f_names = aFE.stFeatureExtraction(X, Fs, 0.050*Fs, 0.025*Fs)\n",
    "            data.append(F)\n",
    "            target.append(['1','normal'])\n",
    "\n",
    "for item in os.listdir('peterbertley_Audio/Atraining_extrahls'):   \n",
    "     if item.endswith(\".wav\"):\n",
    "            Fs, X = audioBasicIO.readAudioFile('peterbertley_Audio/Atraining_extrahls/'+str(item))\n",
    "            F, f_names = aFE.stFeatureExtraction(X, Fs, 0.050*Fs, 0.025*Fs)\n",
    "            data.append(F)\n",
    "            target.append(['2','extrahls'])"
   ]
  },
  {
   "cell_type": "code",
   "execution_count": null,
   "metadata": {},
   "outputs": [],
   "source": [
    "indexes2=[]\n",
    "for k,i in enumerate(data):\n",
    "    if len(i[0])<240:\n",
    "        indexes2.append(k)\n",
    "indexes2=indexes2[::-1]\n",
    "indexes2"
   ]
  },
  {
   "cell_type": "code",
   "execution_count": null,
   "metadata": {},
   "outputs": [],
   "source": [
    "for i in indexes2:\n",
    "    data.pop(i)\n",
    "    target.pop(i)\n",
    "print(len(data),len(target))"
   ]
  },
  {
   "cell_type": "code",
   "execution_count": null,
   "metadata": {},
   "outputs": [],
   "source": [
    "data[0].shape"
   ]
  },
  {
   "cell_type": "code",
   "execution_count": null,
   "metadata": {},
   "outputs": [],
   "source": [
    "for k,i in enumerate(data):\n",
    "    data[k]=i[:,0:240]"
   ]
  },
  {
   "cell_type": "code",
   "execution_count": null,
   "metadata": {},
   "outputs": [],
   "source": [
    "data = np.array(data)\n",
    "data.shape"
   ]
  },
  {
   "cell_type": "code",
   "execution_count": null,
   "metadata": {},
   "outputs": [],
   "source": [
    "target=np.array(target)\n",
    "target = to_categorical(target[:,0])\n",
    "X_train,X_test,y_train,y_test = train_test_split(data,target,test_size=0.4)"
   ]
  },
  {
   "cell_type": "code",
   "execution_count": null,
   "metadata": {},
   "outputs": [],
   "source": [
    "# expected input data shape: (batch_size, timesteps, data_dim)\n",
    "model = Sequential()\n",
    "\n",
    "model.add(LSTM(500,input_shape=(34,240),return_sequences=True))\n",
    "model.add(Dropout(0.5))\n",
    "model.add(LSTM(300,activation='relu',return_sequences=True))    \n",
    "model.add(LSTM(100,activation='relu',return_sequences=True))\n",
    "model.add(Flatten())\n",
    "model.add(Dense(3, activation='softmax'))\n",
    "\n",
    "model.compile(loss='categorical_crossentropy',\n",
    "              optimizer='rmsprop',\n",
    "              metrics=['accuracy'])"
   ]
  },
  {
   "cell_type": "code",
   "execution_count": null,
   "metadata": {},
   "outputs": [],
   "source": [
    "model.fit(X_train, y_train,batch_size=4,epochs=30)   #,batch_size=3"
   ]
  },
  {
   "cell_type": "code",
   "execution_count": null,
   "metadata": {},
   "outputs": [],
   "source": [
    "model.evaluate(X_test,y_test)"
   ]
  },
  {
   "cell_type": "code",
   "execution_count": null,
   "metadata": {},
   "outputs": [],
   "source": [
    "model.save('lstm1.h5')   #del model  (deletes the existing model)  #model = load_model('my_model.h5')\n",
    "\n",
    "# returns a compiled model\n",
    "# identical to the previous one\n"
   ]
  },
  {
   "cell_type": "code",
   "execution_count": null,
   "metadata": {},
   "outputs": [],
   "source": []
  }
 ],
 "metadata": {
  "kernelspec": {
   "display_name": "Python 3",
   "language": "python",
   "name": "python3"
  },
  "language_info": {
   "codemirror_mode": {
    "name": "ipython",
    "version": 3
   },
   "file_extension": ".py",
   "mimetype": "text/x-python",
   "name": "python",
   "nbconvert_exporter": "python",
   "pygments_lexer": "ipython3",
   "version": "3.6.5"
  }
 },
 "nbformat": 4,
 "nbformat_minor": 2
}
