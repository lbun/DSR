{
 "cells": [
  {
   "cell_type": "markdown",
   "metadata": {},
   "source": [
    "# Transfer Learning\n",
    "Categorical Classification with language"
   ]
  },
  {
   "cell_type": "code",
   "execution_count": 1,
   "metadata": {},
   "outputs": [
    {
     "name": "stderr",
     "output_type": "stream",
     "text": [
      "Using TensorFlow backend.\n",
      "/Users/luigibungaro/dsr/lib/python3.6/importlib/_bootstrap.py:219: RuntimeWarning: compiletime version 3.5 of module 'tensorflow.python.framework.fast_tensor_util' does not match runtime version 3.6\n",
      "  return f(*args, **kwds)\n"
     ]
    }
   ],
   "source": [
    "import pandas as pd\n",
    "import numpy as pd\n",
    "import pandas as pd\n",
    "import matplotlib.pyplot as plt\n",
    "from keras import models,layers\n",
    "%matplotlib inline"
   ]
  },
  {
   "cell_type": "code",
   "execution_count": 2,
   "metadata": {},
   "outputs": [],
   "source": [
    "from keras.datasets import reuters\n",
    "\n",
    "(train_data,train_labels),(test_data,test_labels) = reuters.load_data(num_words=10000)\n",
    "#in this way we are considering just the 10000 more used words"
   ]
  },
  {
   "cell_type": "code",
   "execution_count": 3,
   "metadata": {},
   "outputs": [
    {
     "name": "stdout",
     "output_type": "stream",
     "text": [
      "(8982,) (8982,) (2246,) (2246,)\n",
      "87 56\n"
     ]
    }
   ],
   "source": [
    "print(train_data.shape,train_labels.shape,test_data.shape,test_labels.shape)\n",
    "print(len(train_data[0]),len(train_data[1]))"
   ]
  },
  {
   "cell_type": "code",
   "execution_count": 4,
   "metadata": {},
   "outputs": [
    {
     "name": "stdout",
     "output_type": "stream",
     "text": [
      "min= 13\n",
      "mean 145.5398574927633\n",
      "std= 145.81413013409278\n",
      "max 2376\n",
      "shape (8982,)\n"
     ]
    }
   ],
   "source": [
    "import numpy as np\n",
    "lenghts = [len(x) for x in train_data]#list comprehension\n",
    "print('min=',np.min(lenghts))\n",
    "print('mean',np.mean(lenghts))\n",
    "print('std=',np.std(lenghts))\n",
    "print('max',np.max(lenghts))\n",
    "print('shape',train_data.shape)"
   ]
  },
  {
   "cell_type": "code",
   "execution_count": 5,
   "metadata": {},
   "outputs": [],
   "source": [
    "word_index = reuters.get_word_index()"
   ]
  },
  {
   "cell_type": "code",
   "execution_count": 6,
   "metadata": {},
   "outputs": [
    {
     "data": {
      "text/plain": [
       "30979"
      ]
     },
     "execution_count": 6,
     "metadata": {},
     "output_type": "execute_result"
    }
   ],
   "source": [
    "len(word_index)  #this is the actual number of possible words, but we have selected just 10k"
   ]
  },
  {
   "cell_type": "code",
   "execution_count": 7,
   "metadata": {},
   "outputs": [],
   "source": [
    "reverse_word_index = dict([(value,key) for (key,value) in word_index.items()]) "
   ]
  },
  {
   "cell_type": "code",
   "execution_count": 8,
   "metadata": {},
   "outputs": [],
   "source": [
    "x1 = pd.DataFrame(train_labels)\n",
    "x2 = pd.DataFrame(test_labels)"
   ]
  },
  {
   "cell_type": "code",
   "execution_count": 9,
   "metadata": {},
   "outputs": [
    {
     "name": "stdout",
     "output_type": "stream",
     "text": [
      "0    46\n",
      "dtype: int64\n",
      "0    46\n",
      "dtype: int64\n"
     ]
    }
   ],
   "source": [
    "print(x1.nunique())\n",
    "print(x2.nunique())"
   ]
  },
  {
   "cell_type": "code",
   "execution_count": 10,
   "metadata": {},
   "outputs": [],
   "source": [
    "def vectorize_sequences(sequences,dimension=10000):  #take sequenses and turn them into vectors\n",
    "    results = np.zeros((len(sequences),dimension))\n",
    "    for i, sequence in enumerate(sequences):\n",
    "        results[i,sequence] = train_labels[i]   #fancy indexing\n",
    "    return results\n",
    "\n",
    "x_train = vectorize_sequences(train_data)\n",
    "x_test = vectorize_sequences(test_data)"
   ]
  },
  {
   "cell_type": "code",
   "execution_count": 11,
   "metadata": {},
   "outputs": [
    {
     "data": {
      "text/plain": [
       "(8982, 10000)"
      ]
     },
     "execution_count": 11,
     "metadata": {},
     "output_type": "execute_result"
    }
   ],
   "source": [
    "x_train.shape #this shape means that we have 8982 samples and 10k features\n",
    "#the 10k features will be the input of our neural network"
   ]
  },
  {
   "cell_type": "code",
   "execution_count": 12,
   "metadata": {},
   "outputs": [
    {
     "data": {
      "text/plain": [
       "(2246, 10000)"
      ]
     },
     "execution_count": 12,
     "metadata": {},
     "output_type": "execute_result"
    }
   ],
   "source": [
    "x_test.shape"
   ]
  },
  {
   "cell_type": "code",
   "execution_count": 13,
   "metadata": {},
   "outputs": [
    {
     "data": {
      "text/plain": [
       "(8982,)"
      ]
     },
     "execution_count": 13,
     "metadata": {},
     "output_type": "execute_result"
    }
   ],
   "source": [
    "train_labels.shape\n",
    "#we have 46 kind of possible outputs, so we need to transform this into a shape of\n",
    "#8982x46 "
   ]
  },
  {
   "cell_type": "code",
   "execution_count": 20,
   "metadata": {},
   "outputs": [
    {
     "name": "stdout",
     "output_type": "stream",
     "text": [
      "Train on 7185 samples, validate on 1797 samples\n",
      "Epoch 1/10\n",
      "7185/7185 [==============================] - 14s 2ms/step - loss: 2.3476 - acc: 0.7241 - val_loss: 1.9509 - val_acc: 0.7874\n",
      "Epoch 2/10\n",
      "7185/7185 [==============================] - 14s 2ms/step - loss: 1.2745 - acc: 0.8863 - val_loss: 1.9403 - val_acc: 0.7908\n",
      "Epoch 3/10\n",
      "7185/7185 [==============================] - 14s 2ms/step - loss: 1.0857 - acc: 0.9090 - val_loss: 1.9778 - val_acc: 0.7958\n",
      "Epoch 4/10\n",
      "7185/7185 [==============================] - 14s 2ms/step - loss: 1.0516 - acc: 0.9133 - val_loss: 2.1094 - val_acc: 0.7880\n",
      "Epoch 5/10\n",
      "7185/7185 [==============================] - 14s 2ms/step - loss: 1.0130 - acc: 0.9223 - val_loss: 2.0096 - val_acc: 0.8052\n",
      "Epoch 6/10\n",
      "7185/7185 [==============================] - 13s 2ms/step - loss: 0.9870 - acc: 0.9253 - val_loss: 2.0058 - val_acc: 0.8114\n",
      "Epoch 7/10\n",
      "7185/7185 [==============================] - 14s 2ms/step - loss: 0.9815 - acc: 0.9276 - val_loss: 2.1258 - val_acc: 0.7924\n",
      "Epoch 8/10\n",
      "7185/7185 [==============================] - 14s 2ms/step - loss: 0.9774 - acc: 0.9269 - val_loss: 2.0171 - val_acc: 0.8080\n",
      "Epoch 9/10\n",
      "7185/7185 [==============================] - 14s 2ms/step - loss: 0.9679 - acc: 0.9290 - val_loss: 2.1259 - val_acc: 0.7969\n",
      "Epoch 10/10\n",
      "7185/7185 [==============================] - 14s 2ms/step - loss: 0.9554 - acc: 0.9280 - val_loss: 2.1199 - val_acc: 0.7986\n"
     ]
    }
   ],
   "source": [
    "model = models.Sequential()\n",
    "model.add(layers.Dense(1024, activation='relu',input_shape=(10000,)))\n",
    "model.add(layers.Dense(46,activation='softmax'))\n",
    "model.compile(optimizer='adam',loss='categorical_crossentropy',metrics=['accuracy'])\n",
    "\n",
    "from keras.utils import to_categorical\n",
    "y_train = to_categorical(train_labels) #1 element become an array of 46 elements\n",
    "y_test = to_categorical(test_labels)\n",
    "\n",
    "history = model.fit(x_train,y_train,epochs=10,batch_size=128, validation_split=0.2)\n"
   ]
  },
  {
   "cell_type": "code",
   "execution_count": 21,
   "metadata": {},
   "outputs": [
    {
     "data": {
      "image/png": "[encoded data removed]",
      "text/plain": [
       "<Figure size 432x288 with 1 Axes>"
      ]
     },
     "metadata": {
      "needs_background": "light"
     },
     "output_type": "display_data"
    },
    {
     "data": {
      "image/png": "[encoded data removed]",
      "text/plain": [
       "<Figure size 432x288 with 1 Axes>"
      ]
     },
     "metadata": {
      "needs_background": "light"
     },
     "output_type": "display_data"
    }
   ],
   "source": [
    "plt.plot(history.history['loss'],label='loss')\n",
    "plt.plot(history.history['val_loss'],label='val_loss') \n",
    "plt.legend()\n",
    "plt.show()\n",
    "plt.close()\n",
    "\n",
    "plt.plot(history.history['acc'],label='acc')\n",
    "plt.plot(history.history['val_acc'],label='val_acc')\n",
    "plt.legend()\n",
    "plt.show()\n",
    "plt.close()"
   ]
  },
  {
   "cell_type": "code",
   "execution_count": null,
   "metadata": {},
   "outputs": [],
   "source": []
  }
 ],
 "metadata": {
  "kernelspec": {
   "display_name": "Python 3",
   "language": "python",
   "name": "python3"
  },
  "language_info": {
   "codemirror_mode": {
    "name": "ipython",
    "version": 3
   },
   "file_extension": ".py",
   "mimetype": "text/x-python",
   "name": "python",
   "nbconvert_exporter": "python",
   "pygments_lexer": "ipython3",
   "version": "3.6.5"
  }
 },
 "nbformat": 4,
 "nbformat_minor": 2
}
